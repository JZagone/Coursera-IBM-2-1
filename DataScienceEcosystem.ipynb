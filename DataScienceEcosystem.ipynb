{
 "cells": [
  {
   "cell_type": "markdown",
   "id": "ff950022-a9e5-4268-afd2-1a4d767d7094",
   "metadata": {},
   "source": [
    "# Data Science Tools and Ecosystem"
   ]
  },
  {
   "cell_type": "markdown",
   "id": "fd69f0ae-7130-4f6b-bcb5-7de00ae43c54",
   "metadata": {},
   "source": [
    "## Author\n",
    "Jakob Zagone"
   ]
  },
  {
   "cell_type": "markdown",
   "id": "952732ef-50db-437f-9d55-d2a44e256d28",
   "metadata": {},
   "source": [
    "This notebook acts as a summary of some of the tools and environments used in data science."
   ]
  },
  {
   "cell_type": "markdown",
   "id": "4185fc29-c16c-4377-80cd-059e9137b0bb",
   "metadata": {},
   "source": [
    "**Objectives:**\n",
    "* List commonly-used data science languages\n",
    "* List commonly-used data science libraries\n",
    "* List commonly-used coding environments for data science\n",
    "* Demonstrate the use of python to evaluate mathematical expressions"
   ]
  },
  {
   "cell_type": "markdown",
   "id": "8655ee76-d73a-4309-9a1e-8c0d824f3dd1",
   "metadata": {},
   "source": [
    "Some of the popular languages that data scientists use are:\n",
    "1. Python\n",
    "2. R\n",
    "3. C++"
   ]
  },
  {
   "cell_type": "markdown",
   "id": "e6a7f992-aef4-44f1-8fb6-af8701707e6f",
   "metadata": {},
   "source": [
    "Some of the commonly-used libraries used by data scientists include:\n",
    "1. NumPy\n",
    "2. Pandas\n",
    "3. Matplotlib\n",
    "4. ggplot2"
   ]
  },
  {
   "cell_type": "markdown",
   "id": "f1645ba8-7ea1-4bfc-96a6-40004f1f64fe",
   "metadata": {},
   "source": [
    "| Data Science Tools |\n",
    "| ---- |\n",
    "| Jupyter Lab |\n",
    "| Spyder |\n",
    "| RStudio |"
   ]
  },
  {
   "cell_type": "markdown",
   "id": "fbf3e08b-d673-4ad3-a160-a3c38c53b02f",
   "metadata": {},
   "source": [
    "### below are some examples of evaluating arithmetic expressions in Python"
   ]
  },
  {
   "cell_type": "code",
   "execution_count": 1,
   "id": "ca25685b-0db8-46ca-944e-9bbca84519e8",
   "metadata": {},
   "outputs": [
    {
     "data": {
      "text/plain": [
       "17"
      ]
     },
     "execution_count": 1,
     "metadata": {},
     "output_type": "execute_result"
    }
   ],
   "source": [
    "# this line multiplies two integers, and then adds the result to a third\n",
    "(3*4)+5"
   ]
  },
  {
   "cell_type": "code",
   "execution_count": 2,
   "id": "812b8dfa-fadb-4431-8e95-f74acc4c3845",
   "metadata": {},
   "outputs": [
    {
     "data": {
      "text/plain": [
       "3.3333333333333335"
      ]
     },
     "execution_count": 2,
     "metadata": {},
     "output_type": "execute_result"
    }
   ],
   "source": [
    "# this line will convert minutes to hours by dividing by 60\n",
    "minutes = 200\n",
    "minutes / 60"
   ]
  },
  {
   "cell_type": "code",
   "execution_count": null,
   "id": "81745fab-7796-4cb3-9e08-7ae9aa8009c6",
   "metadata": {},
   "outputs": [],
   "source": []
  }
 ],
 "metadata": {
  "kernelspec": {
   "display_name": "Python 3 (ipykernel)",
   "language": "python",
   "name": "python3"
  },
  "language_info": {
   "codemirror_mode": {
    "name": "ipython",
    "version": 3
   },
   "file_extension": ".py",
   "mimetype": "text/x-python",
   "name": "python",
   "nbconvert_exporter": "python",
   "pygments_lexer": "ipython3",
   "version": "3.9.19"
  }
 },
 "nbformat": 4,
 "nbformat_minor": 5
}
